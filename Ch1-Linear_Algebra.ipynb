{
 "cells": [
  {
   "cell_type": "markdown",
   "metadata": {},
   "source": [
    "# Chapter 1 - Linear Algebra"
   ]
  },
  {
   "cell_type": "markdown",
   "metadata": {},
   "source": [
    "## 1. Vector spaces"
   ]
  },
  {
   "cell_type": "markdown",
   "metadata": {},
   "source": [
    "### 1.1 Introduction\n",
    "- A set $V$ is called a vector space over field $R$ if it is closed under summation and scalar multiplication, $\\textit{i.e.,}$ $\\alpha v_1 + \\beta v_2 \\in V\\ \\forall v_1, v_2 \\in V$ and $ \\alpha, \\beta \\in R$.\n",
    "- A set $W \\subset V$ is called a subspace if $0 \\in W$ and $W$ is closed under summation and scalar multiplication\n",
    "- **Span(S)** - The subspace formed by linear combination of a set $S$ of vectors $\\{v_1, v_2, \\ldots, v_k\\} \\in V$\n",
    "$$Span(S) = \\{ v \\in V | v = \\sum_{i=1}^k \\alpha_i v_i \\}$$\n",
    "- Set $S = \\{v_1, v_2, \\ldots, v_k\\}$ is **linearly independent** when $\\sum_{i=1}^k \\alpha_i v_i = 0 \\iff \\alpha_i = 0\\ \\forall i$, $\\textit{i.e.,}$ none of the vectors in $S$ can be expressed as a linear combination of the other vectors in $S$.\n",
    "- **Basis vectors** - maximal set of linearly independent vectors $S = \\{v_1, v_2, \\ldots, v_k\\}$ that span the vector space $Span(S)$"
   ]
  },
  {
   "cell_type": "markdown",
   "metadata": {},
   "source": [
    "### 1.2 Properties of basis\n",
    "A vector space $V$ can have infinitely many bases. For any two bases $B$ and $B'$,\n",
    "- $B$ and $B'$ contain same number of vectors called dimension of $V$\n",
    "- Any vector $v \\in V$ can be uniquely expressed as a linear combination of basis vectors in $B$, $\\textit{i.e.,}$ $ v = \\sum_i=1^k \\alpha_i v_i$.\n",
    "- Basis vectors in $B'$ can be expressed as a linear combination of basis vectors in $B$, $\\textit{i.e.,}$ $b'_i = \\sum_j=1^k \\alpha_{ij} v_j$. Coefficients $\\alpha_{ij}$ form the *basis transformation matrix A*."
   ]
  },
  {
   "cell_type": "markdown",
   "metadata": {},
   "source": [
    "### 1.3 Inner product or Dot product or Scalar product\n",
    "a) Inner product on vector space $V$ is defined as $<.,.> : V \\times V \\in R$ such that\n",
    "- $<u, \\alpha v + \\beta w> = \\alpha <u,v> + \\beta <u,w>$ (linear)\n",
    "- $<u,v> = <v,u>$ (symmetric)\n",
    "- $<v,v>\\ \\ge\\ 0$ and $<v,v> = 0 \\iff v = 0$ (positive definite)\n",
    "\n",
    "b) **Norm**: Length of vector $v$, $|v| = \\sqrt<v,v>$\n",
    "\n",
    "c) **Metric**: For measuring lengths and distances, $d(v,w) = |v-w| = \\sqrt<v-w, v-w>$\n",
    "\n",
    "d) Two vectors $v$ and $w$ are orthogonal $\\iff <v,w> = 0$. (Basis vectors do not have to be necessarily orthogonal.)\n",
    "\n",
    "e) For $ V \\in R^n$ and canonical basis $B = I_n$, the inner product is defined as $<x,y> = x^Ty = \\sum_{i=1}^n x_i y_i$. L2-norm or Euclidean norm is given by $<x,x> = x^Tx = \\sqrt(x_1^2 + \\ldots + x_n^2)$ \n",
    "\n",
    "***Note***\n",
    "- A vector space with a metric (to measure lengths / distances) is called *metric space*.\n",
    "- A vector space whose metric is induced by inner product is called *Hilbert space*."
   ]
  },
  {
   "cell_type": "markdown",
   "metadata": {},
   "source": [
    "### 1.4. Kronecker product and stack of matrix\n",
    "1) **Kronecker product** of two matrices $A \\in R^{m \\times n}$ and $B \\in R^{k \\times l}$ yields a matrix $C \\in R^{mk \\times nl}$ where $B$ is multiplied by each coefficient of $A$ and stacked.\n",
    "\n",
    "2) **Stack** of matrix $A \\in R^{m \\times n}$ yields $C \\in R^{mn}$ by stacking columns of $A$ vertically"
   ]
  },
  {
   "cell_type": "markdown",
   "metadata": {},
   "source": [
    "## 2. Linear transformations and matrices"
   ]
  },
  {
   "cell_type": "markdown",
   "metadata": {},
   "source": [
    "- Linear transformation $L$ between two vector spaces $V$ and $W$ is a map $L : V \\rightarrow W$ such that linearity (summation and scaling) holds.\n",
    "$$ L(x+y) = L(x) + L(y) \\forall x,y \\in V $$\n",
    "$$L(\\alpha x) = \\alpha L(x)$$\n",
    "- Linear transformation is defined by a matrix $A$ which consists of $L$ applied to all basis vectors, $\\textit{i.e.,}\\ A =[L(e_1), \\ldots, L(e_n)] \\in R^{m \\times n}$\n",
    "- Since linear transformations are represented as matrices, linear algebra studies properties of matrices\n",
    "- Unlike inner product of vectors which doesn't yield another vector, product of matrices yield another matrix"
   ]
  },
  {
   "cell_type": "markdown",
   "metadata": {},
   "source": [
    "### 2.1 Groups\n",
    "A set of linear transformations form a group $G$ with an operation $\\circ : G \\times G \\rightarrow G$ such that\n",
    "- application of operation results in a matrix within the group, $g_1 \\circ g_2 \\in G\\ \\forall g_1, g_2 \\in G$\n",
    "- associativity holds, $(g_1 \\circ g_2) \\circ g_3 = g_1 \\circ (g_2 \\circ g_3)\\ \\forall g_1, g_2, g_3 \\in G$\n",
    "- an identity transformation $e$ exists, $\\exists e \\in G, e \\circ g = g \\circ e = g\\ \\forall g \\in G$\n",
    "- inverse transformation $g^{-1}$ exists, $\\exists g^{-1} \\in G, g^{-1} \\circ g = g \\circ g^{-1} = e\\ \\forall g \\in G$\n",
    "\n",
    "All invertible or non-singular real matrices, $A$, have $det(A) \\neq 0$ and form a group (general linear group) under matrix multiplication.\n",
    "\n",
    "Groups can also have a matrix representation."
   ]
  },
  {
   "cell_type": "markdown",
   "metadata": {},
   "source": [
    "### 2.2 Affine group A(n)\n",
    "Affine transformation $L : R^n \\rightarrow R^n$ is defined by a matrix $A$ such that $L(x) = Ax + b$ where $A$ must be invertible. Note that this is not a linear transformation unless $b=0$. \n",
    "\n",
    "More precisely, represent $x$ as homogeneous coordinates, $x \\in R^{n+1}$, to make $L$ a linear map, such that,\n",
    "$$ \n",
    "L ( \\left[ {\\begin{array}{c}\n",
    "   x \\\\\n",
    "   1 \\\\\n",
    "  \\end{array} } \\right] ) = \n",
    "  \\left[ {\\begin{array}{cc}\n",
    "   A & b \\\\\n",
    "   0 & 1 \\\\\n",
    "  \\end{array} } \\right]  \n",
    "  \\left[ {\\begin{array}{c}\n",
    "   x \\\\\n",
    "   1 \\\\\n",
    "  \\end{array} } \\right]  \n",
    "$$\n",
    "\n",
    "and $L : R^{n+1} \\rightarrow R^{n+1}$"
   ]
  },
  {
   "cell_type": "markdown",
   "metadata": {},
   "source": [
    "### 2.3 Orthogonal group R(n)\n",
    "A matrix $ R \\in \\mathcal{M}(n) $ is called orthogonal if it preserves the inner product ($\\mathcal{M}(n)$ denotes all $n \\times n$ real matrices).\n",
    "$$ <Rx,Ry>\\ =\\ <x,y>\\ \\forall x,y \\in R^n$$\n",
    "$$ <Rx,Ry>\\ =\\ xR^TRy\\ =\\ <x,y>\\ \\forall x,y \\in R^n$$\n",
    "Hence, we must have $R^TR = RR^T = I$. Since, the scalar product of the transformed vectors equals the scalar product of the actual vectors, orthogonal transformations preserves the angles. Note that scalar product between two vectors gives the angle between the vectors. \n",
    "\n",
    "Orthogonal transformations generally represent rotations and mirroring."
   ]
  },
  {
   "cell_type": "markdown",
   "metadata": {},
   "source": [
    "### 2.4 Euclidean group E(n)\n",
    "A Euclidean transformation $E$ is defined by a rotation $R$ (orthogonal matrix) and a translation $T \\in R^n$ (vector).\n",
    "$$E(x) = Rx + T$$\n",
    "In homogeneous coordinates, \n",
    "$$ \n",
    "E(n) = \\left[ {\\begin{array}{cc}\n",
    "   R & T \\\\\n",
    "   0 & 1 \\\\\n",
    "  \\end{array} } \\right]\n",
    "$$"
   ]
  },
  {
   "cell_type": "markdown",
   "metadata": {},
   "source": [
    "### 2.5 Range and Null space\n",
    "- Range or span of a transformation $A$ is defined as subspace of $R^m$ that can be reached by $A$. Range is given by the span of the column vectors of $A$.\n",
    "- Null space or kernel of $A$ are the subset of vectors $\\in R^n$ that are mapped to $0$ by $A$.\n",
    "- Range and kernel are complementary. $dim(range(A)) + dim(kernel(A)) = n$.\n",
    "- Useful to study solution of linear equations $Ax = b$\n",
    "    * $Ax = b$ has a solution only if $b \\in range(A)$\n",
    "    * It has unique solution only if $kernel(A) = {0}$, $\\textit{i.e.,}$ only zero vector is in the null space\n",
    "    * If $kernel(A)$ has other vectors besides the zero vector, then there are many solutions for $Ax = b$"
   ]
  },
  {
   "cell_type": "markdown",
   "metadata": {},
   "source": [
    "### 2.6 Rank of a matrix\n",
    "Rank of a matrix $A \\in R^{m \\times n}$\n",
    "- $Rank(A) = dim(range(A))$\n",
    "- $Rank(A) = n - dim(kernel(A))$\n",
    "- $ 0 \\leq rank(A) \\leq min(m,n)$\n",
    "- $Rank(A)$ = maximum number of linearly independent row (or column) vectors of $A$"
   ]
  },
  {
   "cell_type": "markdown",
   "metadata": {},
   "source": [
    "### 2.7 Eigenvalues and Eigenvectors\n"
   ]
  },
  {
   "cell_type": "markdown",
   "metadata": {},
   "source": [
    "## 3. Singular value decomposition"
   ]
  },
  {
   "cell_type": "code",
   "execution_count": null,
   "metadata": {},
   "outputs": [],
   "source": []
  }
 ],
 "metadata": {
  "kernelspec": {
   "display_name": "Python 3",
   "language": "python",
   "name": "python3"
  },
  "language_info": {
   "name": ""
  }
 },
 "nbformat": 4,
 "nbformat_minor": 2
}
