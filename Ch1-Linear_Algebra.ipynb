{
 "cells": [
  {
   "cell_type": "markdown",
   "metadata": {},
   "source": [
    "# Chapter 1 - Linear Algebra"
   ]
  },
  {
   "cell_type": "markdown",
   "metadata": {},
   "source": [
    "## 1. Vector spaces"
   ]
  },
  {
   "cell_type": "markdown",
   "metadata": {},
   "source": [
    "### 1.1 Introduction\n",
    "- A set $V$ is called a vector space over field $R$ if it is closed under summation and scalar multiplication, $\\textit{i.e.,}$ $\\alpha v_1 + \\beta v_2 \\in V\\ \\forall v_1, v_2 \\in V$ and $ \\alpha, \\beta \\in R$.\n",
    "- A set $W \\subset V$ is called a subspace if $0 \\in W$ and $W$ is closed under summation and scalar multiplication\n",
    "- **Span(S)** - The subspace formed by linear combination of a set $S$ of vectors $\\{v_1, v_2, \\ldots, v_k\\} \\in V$\n",
    "$$Span(S) = \\{ v \\in V | v = \\sum_{i=1}^k \\alpha_i v_i \\}$$\n",
    "- Set $S = \\{v_1, v_2, \\ldots, v_k\\}$ is **linearly independent** when $\\sum_{i=1}^k \\alpha_i v_i = 0 \\iff \\alpha_i = 0\\ \\forall i$, $\\textit{i.e.,}$ none of the vectors in $S$ can be expressed as a linear combination of the other vectors in $S$.\n",
    "- **Basis vectors** - maximal set of linearly independent vectors $S = \\{v_1, v_2, \\ldots, v_k\\}$ that span the vector space $Span(S)$"
   ]
  },
  {
   "cell_type": "markdown",
   "metadata": {},
   "source": [
    "### 1.2 Properties of basis\n",
    "A vector space $V$ can have infinitely many bases. For any two bases $B$ and $B'$,\n",
    "- $B$ and $B'$ contain same number of vectors called dimension of $V$\n",
    "- Any vector $v \\in V$ can be uniquely expressed as a linear combination of basis vectors in $B$, $\\textit{i.e.,}$ $ v = \\sum_i=1^k \\alpha_i v_i$.\n",
    "- Basis vectors in $B'$ can be expressed as a linear combination of basis vectors in $B$, $\\textit{i.e.,}$ $b'_i = \\sum_j=1^k \\alpha_{ij} v_j$. Coefficients $\\alpha_{ij}$ form the *basis transformation matrix A*."
   ]
  },
  {
   "cell_type": "markdown",
   "metadata": {},
   "source": [
    "### 1.3 Inner product or Dot product\n",
    "a) Inner product on vector space $V$ is defined as $<.,.> : V \\times V \\in R$ such that\n",
    "- $<u, \\alpha v + \\beta w> = \\alpha <u,v> + \\beta <u,w>$ (linear)\n",
    "- $<u,v> = <v,u>$ (symmetric)\n",
    "- $<v,v>\\ \\ge\\ 0$ and $<v,v> = 0 \\iff v = 0$ (positive definite)\n",
    "\n",
    "b) **Norm**: Length of vector $v$, $|v| = \\sqrt<v,v>$\n",
    "\n",
    "c) **Metric**: For measuring lengths and distances, $d(v,w) = |v-w| = \\sqrt<v-w, v-w>$."
   ]
  },
  {
   "cell_type": "markdown",
   "metadata": {},
   "source": [
    "## Linear transformations and matrices"
   ]
  },
  {
   "cell_type": "markdown",
   "metadata": {},
   "source": [
    "## Singular value decomposition"
   ]
  },
  {
   "cell_type": "code",
   "execution_count": null,
   "metadata": {},
   "outputs": [],
   "source": []
  }
 ],
 "metadata": {
  "kernelspec": {
   "display_name": "Python 3",
   "language": "python",
   "name": "python3"
  },
  "language_info": {
   "name": ""
  }
 },
 "nbformat": 4,
 "nbformat_minor": 2
}
